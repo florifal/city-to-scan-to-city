{
 "cells": [
  {
   "cell_type": "code",
   "execution_count": 1,
   "id": "df508511b49ce9e4",
   "metadata": {
    "ExecuteTime": {
     "end_time": "2024-09-06T07:53:40.033191Z",
     "start_time": "2024-09-06T07:53:38.089220Z"
    }
   },
   "outputs": [
    {
     "name": "stdout",
     "output_type": "stream",
     "text": [
      "Jupyter environment detected. Enabling Open3D WebVisualizer.\n",
      "[Open3D INFO] WebRTC GUI backend enabled.\n",
      "[Open3D INFO] WebRTCWindowSystem: HTTP handshake server disabled.\n"
     ]
    }
   ],
   "source": [
    "from pathlib import Path\n",
    "import pandas as pd\n",
    "import geopandas as gpd\n",
    "import numpy as np\n",
    "import matplotlib.pyplot as plt\n",
    "\n",
    "import sys\n",
    "sys.path.append(r\"C:\\Users\\Florian\\OneDrive - TUM\\Universität\\24\\Master's Thesis\\Code\\city-to-scan-to-city\")\n",
    "\n",
    "from experiment.scenario import *\n",
    "from experiment.utils import scan_freq_from_pulse_freq_via_point_spacing, point_spacing_along, point_spacing_across, rms"
   ]
  },
  {
   "cell_type": "markdown",
   "id": "aa7a3b15beb9e145",
   "metadata": {},
   "source": [
    "# Experiment Test Case Delft Large"
   ]
  },
  {
   "cell_type": "code",
   "execution_count": 2,
   "id": "9a024ca8461cde92",
   "metadata": {
    "ExecuteTime": {
     "end_time": "2024-09-06T07:53:41.139211Z",
     "start_time": "2024-09-06T07:53:41.125212Z"
    }
   },
   "outputs": [],
   "source": [
    "from experiment_setup.exp_delft_large import *"
   ]
  },
  {
   "cell_type": "code",
   "execution_count": 3,
   "id": "267e5041da43cdfa",
   "metadata": {
    "ExecuteTime": {
     "end_time": "2024-09-06T07:53:42.452089Z",
     "start_time": "2024-09-06T07:53:42.284601Z"
    }
   },
   "outputs": [
    {
     "name": "stdout",
     "output_type": "stream",
     "text": [
      "Saving experiment configuration ...\n",
      "Saving scenario configurations ...\n"
     ]
    }
   ],
   "source": [
    "e.setup()"
   ]
  },
  {
   "cell_type": "code",
   "execution_count": null,
   "id": "8d6a4b4d06231372",
   "metadata": {},
   "outputs": [],
   "source": [
    "e.run_step(Scenario.setup_survey)"
   ]
  },
  {
   "cell_type": "code",
   "execution_count": 4,
   "id": "f8f96f8e7bcfa7a4",
   "metadata": {
    "ExecuteTime": {
     "end_time": "2024-09-06T07:53:45.231966Z",
     "start_time": "2024-09-06T07:53:45.218933Z"
    }
   },
   "outputs": [
    {
     "name": "stdout",
     "output_type": "stream",
     "text": [
      "['scenario_000', 'scenario_005', 'scenario_010', 'scenario_015', 'scenario_020']\n"
     ]
    }
   ],
   "source": [
    "scenarios_unique_surveys = [f\"scenario_{(i*5):03}\" for i in range(5)]\n",
    "print(scenarios_unique_surveys)\n",
    "# scenarios_unique_surveys = None"
   ]
  },
  {
   "cell_type": "code",
   "execution_count": null,
   "id": "148a972e19016b5f",
   "metadata": {},
   "outputs": [],
   "source": [
    "e.run_step(Scenario.prepare_survey, scenarios=scenarios_unique_surveys)"
   ]
  },
  {
   "cell_type": "code",
   "execution_count": null,
   "id": "5501dadff00fe6e0",
   "metadata": {},
   "outputs": [],
   "source": [
    "e.run_step(Scenario.run_survey, scenarios=scenarios_unique_surveys[0])"
   ]
  },
  {
   "cell_type": "code",
   "execution_count": null,
   "id": "dbcbae1f40de1ac5",
   "metadata": {},
   "outputs": [],
   "source": [
    "e.run_step(Scenario.run_survey, scenarios=scenarios_unique_surveys[4])"
   ]
  },
  {
   "cell_type": "code",
   "execution_count": null,
   "id": "b6328935b64a5955",
   "metadata": {},
   "outputs": [],
   "source": [
    "e.run_step(Scenario.process_point_cloud, scenarios=scenarios_unique_surveys[0])"
   ]
  },
  {
   "cell_type": "code",
   "execution_count": null,
   "id": "8c8b841915a2f0c",
   "metadata": {},
   "outputs": [],
   "source": [
    "e.run_step(Scenario.setup_reconstruction, scenarios=scenarios_unique_surveys[0])"
   ]
  },
  {
   "cell_type": "code",
   "execution_count": null,
   "id": "b87d3db73783b652",
   "metadata": {},
   "outputs": [],
   "source": [
    "e.run_step(Scenario.prepare_reconstruction, scenarios=scenarios_unique_surveys[0])"
   ]
  },
  {
   "cell_type": "code",
   "execution_count": null,
   "id": "8baeb62f2e87378b",
   "metadata": {},
   "outputs": [],
   "source": [
    "e.run_step(Scenario.run_reconstruction, scenarios=scenarios_unique_surveys[0])"
   ]
  },
  {
   "cell_type": "code",
   "execution_count": 7,
   "id": "9c30a2061f1d1266",
   "metadata": {},
   "outputs": [
    {
     "name": "stdout",
     "output_type": "stream",
     "text": [
      "\n",
      "Running 'setup_evaluation' for scenario_000 ...\n",
      "\n",
      "\n",
      "Finished 'setup_evaluation' for scenario_000 after 0:00:00.210941.\n",
      "\n"
     ]
    }
   ],
   "source": [
    "e.run_step(Scenario.setup_evaluation, scenarios=scenarios_unique_surveys[0])"
   ]
  },
  {
   "cell_type": "code",
   "execution_count": null,
   "id": "ec0b1f87944e0a90",
   "metadata": {},
   "outputs": [],
   "source": [
    "e.run_step(Scenario.run_evaluation, scenarios=scenarios_unique_surveys[0], evaluator_selection=\"point_density\")"
   ]
  },
  {
   "cell_type": "code",
   "execution_count": 13,
   "id": "c80fa135-f53c-4c21-9dff-f28e48accd11",
   "metadata": {},
   "outputs": [
    {
     "name": "stdout",
     "output_type": "stream",
     "text": [
      "\n",
      "Starting PointDensityDatasetEvaluator ...\n",
      "\n",
      "Computing overall ground density ...\n",
      "- Reading point cloud and clipping to bbox ...\n",
      "- Writing clipped point cloud ...\n",
      "\n",
      "Finished PointDensityDatasetEvaluator after 0:00:03.840985.\n"
     ]
    }
   ],
   "source": [
    "e[0].evaluators[\"point_density\"].run()"
   ]
  },
  {
   "cell_type": "code",
   "execution_count": null,
   "id": "6ff4c052c6f92e7f",
   "metadata": {},
   "outputs": [],
   "source": [
    "e[20].evaluators[\"geoflow_output\"].gpkg_eval.results_df.loc[\"num_unique\", \"22\"]"
   ]
  },
  {
   "cell_type": "code",
   "execution_count": null,
   "id": "94453fb6dd1affe2",
   "metadata": {},
   "outputs": [],
   "source": [
    "print(\"hi\")"
   ]
  }
 ],
 "metadata": {
  "kernelspec": {
   "display_name": "Python 3 (ipykernel)",
   "language": "python",
   "name": "python3"
  },
  "language_info": {
   "codemirror_mode": {
    "name": "ipython",
    "version": 3
   },
   "file_extension": ".py",
   "mimetype": "text/x-python",
   "name": "python",
   "nbconvert_exporter": "python",
   "pygments_lexer": "ipython3",
   "version": "3.10.14"
  }
 },
 "nbformat": 4,
 "nbformat_minor": 5
}
