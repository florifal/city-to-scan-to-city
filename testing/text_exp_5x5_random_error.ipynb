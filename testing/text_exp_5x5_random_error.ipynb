{
 "cells": [
  {
   "cell_type": "code",
   "id": "initial_id",
   "metadata": {
    "collapsed": true
   },
   "source": [
    "import experiment_setup.exp_delft_large\n",
    "from experiment.scenario import *\n",
    "from pathlib import Path\n",
    "import pandas as pd\n",
    "import geopandas as gpd\n",
    "import numpy as np\n",
    "import matplotlib.pyplot as plt\n",
    "\n",
    "from experiment.utils import scan_freq_from_pulse_freq_via_point_spacing, point_spacing_along, point_spacing_across, rms"
   ],
   "outputs": [],
   "execution_count": null
  },
  {
   "metadata": {},
   "cell_type": "markdown",
   "source": "# Experiment Test Case with Random Error",
   "id": "2e5bb0dc663d9628"
  },
  {
   "metadata": {},
   "cell_type": "markdown",
   "source": [
    "**Update: Independent ALS simulation and random error introduction**\n",
    "\n",
    "Updated folder structure:\n",
    "\n",
    "- 01_input\n",
    "- 02_settings\n",
    "- 03_scene\n",
    "- 04_survey\n",
    "- 05_point_clouds\n",
    "- 06_reconstruction\n",
    "- 07_evaluation\n",
    "\n",
    "One settings dictionary vs. two settings dictionaries?\n",
    "\n",
    "One dictionary:\n",
    "\n",
    "- Explicitly states the survey settings (mainly pulse frequency) for each scenario, even if they repeat\n",
    "- Requires parsing of the contained survey settings to ensure that surveys with identical settings are only simulated once\n",
    "- Allows identification of each scenario's settings at a single glance, without referencing settings from a second dictionary\n",
    "- More verbose, but simpler structure\n",
    "\n",
    "Two dictionaries:\n",
    "\n",
    "- No need to repeat identical pulse frequencies for multiple scenarios, instead add reference to corresponding survey setting\n",
    "- No need to parse the scenario dictionary to identify unique survey settings\n",
    "- To get complete settings for single scenario including its survey settings, the reference to the second dictionary must be dissolved\n",
    "- Less verbose, but more complicated structure for the user to set up\n"
   ],
   "id": "f951b25a11fd5baf"
  },
  {
   "metadata": {},
   "cell_type": "code",
   "source": "from experiment_setup.exp_random_error import *",
   "id": "6bcdfa05c18edc6c",
   "outputs": [],
   "execution_count": null
  },
  {
   "metadata": {},
   "cell_type": "code",
   "source": [
    "# for i, s in enumerate(scenario_settings):\n",
    "#     print(i)\n",
    "#     print(point_spacing_along(velocity, s[\"scan_freq_hz\"]))\n",
    "#     print(point_spacing_across(altitude, scan_angle_deg, s[\"pulse_freq_hz\"], s[\"scan_freq_hz\"]))\n",
    "#     print()"
   ],
   "id": "f52b0b16761818d9",
   "outputs": [],
   "execution_count": null
  },
  {
   "metadata": {},
   "cell_type": "markdown",
   "source": "## Reconstruction",
   "id": "8190b485768fc6e8"
  },
  {
   "metadata": {},
   "cell_type": "code",
   "source": "e.setup()",
   "id": "6e40cb9fd8f9998b",
   "outputs": [],
   "execution_count": null
  },
  {
   "metadata": {},
   "cell_type": "code",
   "source": "e.run_step(Scenario.setup_reconstruction, scenarios=\"scenario_005\")",
   "id": "9c7229ae8f4f7253",
   "outputs": [],
   "execution_count": null
  },
  {
   "metadata": {},
   "cell_type": "code",
   "source": "e.run_step(Scenario.prepare_reconstruction, scenarios=\"scenario_005\")",
   "id": "98b7fb60474e1940",
   "outputs": [],
   "execution_count": null
  },
  {
   "metadata": {},
   "cell_type": "code",
   "source": "e.run_step(Scenario.run_reconstruction, scenarios=\"scenario_005\")",
   "id": "807f1b32c1f9932a",
   "outputs": [],
   "execution_count": null
  },
  {
   "metadata": {},
   "cell_type": "markdown",
   "source": "## Evaluation",
   "id": "fb30bec8d2f2b484"
  },
  {
   "metadata": {},
   "cell_type": "code",
   "source": [
    "e.setup()\n",
    "e.run_step(Scenario.setup_evaluation)"
   ],
   "id": "bf04e210b0c6a7f3",
   "outputs": [],
   "execution_count": null
  },
  {
   "metadata": {},
   "cell_type": "code",
   "source": "e.run_step(Scenario.run_evaluation, evaluator_selection=\"height\")",
   "id": "880cfca61c21f3e3",
   "outputs": [],
   "execution_count": null
  },
  {
   "metadata": {},
   "cell_type": "code",
   "source": "e.compute_summary_statistics()",
   "id": "da90681b488b966d",
   "outputs": [],
   "execution_count": null
  },
  {
   "metadata": {},
   "cell_type": "code",
   "source": "e.run_step(Scenario.concat_evaluation_results)",
   "id": "e048b14ebd8d55a7",
   "outputs": [],
   "execution_count": null
  },
  {
   "metadata": {},
   "cell_type": "markdown",
   "source": "## Full Cycle",
   "id": "f34852a73ac03d26"
  },
  {
   "metadata": {},
   "cell_type": "code",
   "source": "e.setup()",
   "id": "47e16dbb9b7ea915",
   "outputs": [],
   "execution_count": null
  },
  {
   "metadata": {},
   "cell_type": "code",
   "source": "e.run_step(Scenario.setup_survey)",
   "id": "dc0c8f3f7c58d1de",
   "outputs": [],
   "execution_count": null
  },
  {
   "metadata": {},
   "cell_type": "code",
   "source": [
    "scenarios_unique_surveys = [f\"scenario_{(i*5):03}\" for i in range(5)]\n",
    "print(scenarios_unique_surveys[:3])\n",
    "# scenarios_unique_surveys = None"
   ],
   "id": "58c9a23058d165a1",
   "outputs": [],
   "execution_count": null
  },
  {
   "metadata": {},
   "cell_type": "code",
   "source": "e.run_step(Scenario.prepare_survey, scenarios=scenarios_unique_surveys)",
   "id": "5226e961b7ff7baa",
   "outputs": [],
   "execution_count": null
  },
  {
   "metadata": {},
   "cell_type": "code",
   "source": "e.run_step(Scenario.run_survey, scenarios=scenarios_unique_surveys)",
   "id": "e57bb2b0db083d5",
   "outputs": [],
   "execution_count": null
  },
  {
   "metadata": {},
   "cell_type": "code",
   "source": [
    "import shutil\n",
    "for i in [j*5 for j in range(5)]:\n",
    "    print(i)\n",
    "    merged_cloud_textfile_filepath = e.scenarios[f\"scenario_{i:03}\"].textfile_merged_cloud_path_filepath\n",
    "    for k in range(1, 5):\n",
    "        print(f\" {i+k}\")\n",
    "        shutil.copy2(merged_cloud_textfile_filepath, e.scenarios[f\"scenario_{(i+k):03}\"].textfile_merged_cloud_path_filepath)"
   ],
   "id": "34dc7cf68535e3d0",
   "outputs": [],
   "execution_count": null
  },
  {
   "metadata": {},
   "cell_type": "code",
   "source": "e.run_step(Scenario.process_point_cloud)",
   "id": "9245715aa144b9d",
   "outputs": [],
   "execution_count": null
  },
  {
   "metadata": {},
   "cell_type": "code",
   "source": "e.run_step(Scenario.setup_reconstruction)",
   "id": "4a1fec3fd084fff3",
   "outputs": [],
   "execution_count": null
  },
  {
   "metadata": {},
   "cell_type": "code",
   "source": "e.run_step(Scenario.prepare_reconstruction)",
   "id": "beef0bd0d321ee7a",
   "outputs": [],
   "execution_count": null
  },
  {
   "metadata": {},
   "cell_type": "code",
   "source": "e.run_step(Scenario.run_reconstruction)",
   "id": "67802c7f66adf8fd",
   "outputs": [],
   "execution_count": null
  },
  {
   "metadata": {},
   "cell_type": "code",
   "source": "e.run_step(Scenario.setup_evaluation)",
   "id": "4b2eb54cc0b2e407",
   "outputs": [],
   "execution_count": null
  },
  {
   "metadata": {},
   "cell_type": "code",
   "source": "list(e.scenarios.keys())[-1:]",
   "id": "d8d01a71944ff0db",
   "outputs": [],
   "execution_count": null
  },
  {
   "metadata": {},
   "cell_type": "code",
   "source": "e.run_step(Scenario.run_evaluation)",
   "id": "d13025d0245e5a54",
   "outputs": [],
   "execution_count": null
  },
  {
   "metadata": {},
   "cell_type": "code",
   "source": "e.compute_summary_statistics()",
   "id": "a6f72206b92df660",
   "outputs": [],
   "execution_count": null
  },
  {
   "metadata": {},
   "cell_type": "code",
   "source": [
    "for name, s in e.scenarios.items():\n",
    "    s.concat_evaluation_results()"
   ],
   "id": "23cfb1a53e5b5773",
   "outputs": [],
   "execution_count": null
  },
  {
   "metadata": {},
   "cell_type": "code",
   "source": "e.setup_input_evaluation()",
   "id": "35da69361d06670e",
   "outputs": [],
   "execution_count": null
  },
  {
   "metadata": {},
   "cell_type": "code",
   "source": "e.run_input_evaluation()",
   "id": "cabc657e1c67c9b8",
   "outputs": [],
   "execution_count": null
  },
  {
   "metadata": {},
   "cell_type": "markdown",
   "source": "## Graphical evaluation: Results from Evaluator.summary_stats()",
   "id": "320e3d47bd54a87d"
  },
  {
   "metadata": {},
   "cell_type": "code",
   "source": "e.setup()",
   "id": "8cec789785d41989",
   "outputs": [],
   "execution_count": null
  },
  {
   "metadata": {},
   "cell_type": "code",
   "source": "e.run_step(Scenario.setup_evaluation)",
   "id": "c125a40f7df577ae",
   "outputs": [],
   "execution_count": null
  },
  {
   "metadata": {},
   "cell_type": "code",
   "source": "e.run_step(Scenario.run_evaluation, evaluator_selection=\"hausdorff\")",
   "id": "3af83f71d240df6",
   "outputs": [],
   "execution_count": null
  },
  {
   "metadata": {},
   "cell_type": "code",
   "source": "e.compute_summary_statistics()",
   "id": "b166dd9ba1abd65a",
   "outputs": [],
   "execution_count": null
  },
  {
   "metadata": {},
   "cell_type": "code",
   "source": "e.summary_stats.loc[\"scenario_014\", \"iou_22_mean\"]",
   "id": "70d3954c286a5951",
   "outputs": [],
   "execution_count": null
  },
  {
   "metadata": {},
   "cell_type": "code",
   "source": [
    "axis_labels = {\n",
    "    \"iou_22_mean\": \"Mean IOU 22\",\n",
    "    \"hausdorff_22_rms\": \"RMS Hausdorff Distance 22 [m]\",\n",
    "    \"h_70p_mean_abs_diff\": \"Mean height difference\\n($70^{th}$ %ile, abs. val) [m]\",\n",
    "    \"h_70p_mean_norm_abs_diff\": \"Mean normalized height difference\\n($70^{th}$ %ile, abs. val) [m]\",\n",
    "    \"area_22_mean_abs_diff\": \"Mean area difference\\n(abs. val.) 22 [m²]\",\n",
    "    \"area_22_mean_norm_abs_diff\": \"Mean normalized area difference\\n(abs. val.) 22\",\n",
    "    \"volume_22_mean_abs_diff\": \"Mean volume difference\\n(abs.val.) 22 [m³]\",\n",
    "    \"volume_22_mean_norm_abs_diff\": \"Mean normalized volume difference\\n(abs. val.) 22\",\n",
    "    \"n_faces_22_mean\": \"Mean face number 22\",\n",
    "    \"density_overall\": \"Point density [m$^{-2}$]\",\n",
    "    \"point_spacing_along\": \"Point spacing [m]\"\n",
    "}"
   ],
   "id": "76757f1ba7dc5337",
   "outputs": [],
   "execution_count": null
  },
  {
   "metadata": {},
   "cell_type": "code",
   "source": [
    "titles = {\n",
    "    \"iou_22_mean\": \"Mean IOU\",\n",
    "    \"hausdorff_22_rms\": \"RMS Hausdorff Distance [m]\",\n",
    "    \"h_70p_mean_abs_diff\": \"Mean $70^{th}$ %ile height difference [m]\",\n",
    "    \"h_70p_mean_norm_abs_diff\": \"Mean normalized $70^{th}$ %ile height difference\",\n",
    "    \"area_22_mean_abs_diff\": \"Mean area difference [m²]\",\n",
    "    \"area_22_mean_norm_abs_diff\": \"Mean normalized area difference\",\n",
    "    \"area_22_norm_mean_abs_diff\": \"Normalized mean area difference\",\n",
    "    \"volume_22_mean_abs_diff\": \"Mean volume difference [m³]\",\n",
    "    \"volume_22_mean_norm_abs_diff\": \"Mean normalized volume difference\",\n",
    "    \"volume_22_norm_mean_abs_diff\": \"Normalized mean volume difference\",\n",
    "    \"n_faces_22_mean\": \"Mean face number\",\n",
    "    \"density_overall\": \"Point density [m$^{-2}$]\",\n",
    "    \"point_spacing_along\": \"Point spacing [m]\"\n",
    "}"
   ],
   "id": "9f9e93054dbba0cd",
   "outputs": [],
   "execution_count": null
  },
  {
   "metadata": {},
   "cell_type": "code",
   "source": [
    "def eval_plot(ax, x, y, error_steps=error_steps, xlabel=True, ylabel=True):\n",
    "    for i, fraction in enumerate(error_steps):\n",
    "        std_horizontal_error = float(Decimal(str(fraction)) * Decimal(str(std_horizontal_max)))\n",
    "        slice = e.summary_stats[e.summary_stats.std_horizontal_error == std_horizontal_error]\n",
    "        ax.plot(slice[x], slice[y], label=str(int(fraction*100)), marker=\"o\")\n",
    "    \n",
    "    if xlabel:\n",
    "        ax.set_xlabel(axis_labels[x] if x in axis_labels.keys() else x)\n",
    "    if ylabel:\n",
    "        ax.set_ylabel(axis_labels[y] if y in axis_labels.keys() else y)\n",
    "\n",
    "    \n",
    "    # if y in [\"hausdorff_22_rms\", \"hausdorff_22_mean\", \"area_22_mean_abs_diff\", \"volume_22_mean_abs_diff\", \"n_faces_22_mean\"]:\n",
    "    if \"iou_\" not in y:\n",
    "        ax.set_ylim(bottom=0)\n",
    "    \n",
    "    if x in [\"point_spacing_along\", \"point_spacing_across\"]:\n",
    "        ax.xaxis.set_inverted(True)"
   ],
   "id": "ef06e0ceae14190",
   "outputs": [],
   "execution_count": null
  },
  {
   "metadata": {},
   "cell_type": "code",
   "source": [
    "def eval_plot_multi(xs, ys):\n",
    "    fig, axs = plt.subplots(nrows=len(ys), ncols=len(xs), sharex=\"col\", sharey=\"row\", figsize=(4*len(xs), 4*len(ys)))\n",
    "\n",
    "    for i, y in enumerate(ys):\n",
    "        for j, x in enumerate(xs):\n",
    "            eval_plot(axs[i,j], x, y)\n",
    "            if j == 1:\n",
    "                axs[i,j].legend(title=\"Noise [% of max]\", loc=(1.1, 0))"
   ],
   "id": "a99bf9413af06ff8",
   "outputs": [],
   "execution_count": null
  },
  {
   "metadata": {},
   "cell_type": "code",
   "source": [
    "def eval_plot_row(xs, y, title=False):\n",
    "    fig, axs = plt.subplots(nrows=1, ncols=len(xs), sharex=\"col\", sharey=\"row\", figsize=(4*len(xs), 4))\n",
    "\n",
    "    for j, x in enumerate(xs):\n",
    "        eval_plot(axs[j], x, y, ylabel=(not title))\n",
    "        if j == len(xs)-1:\n",
    "            axs[j].legend(title=\"Noise [% of max]\", loc=(1.1, 0))\n",
    "    \n",
    "    if title:\n",
    "        fig.suptitle(titles[y] if y in titles.keys() else y)"
   ],
   "id": "772ceafc6743c54e",
   "outputs": [],
   "execution_count": null
  },
  {
   "metadata": {},
   "cell_type": "code",
   "source": [
    "xs = [\"density_overall\", \"point_spacing_along\"]\n",
    "ys = [\"iou_22_mean\", \"hausdorff_22_rms\", \"volume_22_mean_abs_diff\", \"volume_22_mean_norm_abs_diff\", \"volume_22_norm_mean_abs_diff\", \"area_22_mean_abs_diff\", \"area_22_mean_norm_abs_diff\", \"area_22_norm_mean_abs_diff\", \"h_70p_mean_abs_diff\", \"h_70p_mean_norm_abs_diff\", \"n_faces_22_mean\"]\n",
    "# eval_plot_multi(xs, ys)\n",
    "\n",
    "for y in ys:\n",
    "    eval_plot_row(xs, y, title=True)"
   ],
   "id": "8b5f66411326e800",
   "outputs": [],
   "execution_count": null
  },
  {
   "metadata": {},
   "cell_type": "code",
   "source": [
    "fig, ax = plt.subplots()\n",
    "eval_plot(ax, \"n_faces_22_mean\", \"area_diff_22_mean_abs\")"
   ],
   "id": "69a2c5057695ca31",
   "outputs": [],
   "execution_count": null
  },
  {
   "metadata": {},
   "cell_type": "markdown",
   "source": "## Graphical evaluation: Manual evaluation results",
   "id": "f5f3bd23fb27b531"
  },
  {
   "metadata": {},
   "cell_type": "code",
   "source": [
    "e.setup()\n",
    "e.run_step(Scenario.setup_evaluation)\n",
    "# e.setup_input_evaluation()"
   ],
   "id": "44d2b35eb77b3cbb",
   "outputs": [],
   "execution_count": null
  },
  {
   "metadata": {},
   "cell_type": "code",
   "source": [
    "for name, s in e.scenarios.items():\n",
    "    print(get_config_item(s.config, \"pulse_freq_hz\"))\n",
    "    print(get_config_item(s.config, \"std_horizontal_error\"))"
   ],
   "id": "70badb0986c39db5",
   "outputs": [],
   "execution_count": null
  },
  {
   "metadata": {},
   "cell_type": "code",
   "source": [
    "# Accessing individual evaluators' results\n",
    "e.scenarios[\"scenario_024\"].evaluators[\"hausdorff\"].results[\"hausdorff.22\"].mean()"
   ],
   "id": "d2a0a6413ba0653f",
   "outputs": [],
   "execution_count": null
  },
  {
   "metadata": {},
   "cell_type": "code",
   "source": "e.scenarios[\"scenario_000\"].evaluators[\"hausdorff\"].results",
   "id": "b275159f272fe60",
   "outputs": [],
   "execution_count": null
  },
  {
   "metadata": {},
   "cell_type": "code",
   "source": [
    "# Accessing input evaluators' results\n",
    "e.input_evaluators[\"area_volume\"].results"
   ],
   "id": "ba25cf9cebc0f9f9",
   "outputs": [],
   "execution_count": null
  },
  {
   "metadata": {},
   "cell_type": "code",
   "source": [
    "# todo: remove\n",
    "# # Computing area or volume difference between input and reconstructed models\n",
    "# area_volume_df = pd.merge(\n",
    "#     e.input_evaluators[\"area_volume\"].results,\n",
    "#     e.scenarios[\"scenario_024\"].evaluators[\"area_volume\"].results,\n",
    "#     left_on=\"identificatie\",\n",
    "#     right_on=\"identificatie\",\n",
    "#     suffixes=(\"_in\", \"_out\")\n",
    "# )\n",
    "# \n",
    "# (area_volume_df[\"fme_area_22_in\"] - area_volume_df[\"fme_area_22_out\"]).mean()\n",
    "# # (e.input_evaluators[\"area_volume\"].results[\"fme_area_22\"] - e.scenarios[\"scenario_024\"].evaluators[\"area_volume\"].results[\"fme_area_22\"])"
   ],
   "id": "172d3c6ec3c8597e",
   "outputs": [],
   "execution_count": null
  },
  {
   "metadata": {},
   "cell_type": "code",
   "source": [
    "rows = []\n",
    "\n",
    "for name, s in e.scenarios.items():\n",
    "    # todo: remove\n",
    "    # area_volume_df = pd.merge(\n",
    "    #     e.input_evaluators[\"area_volume\"].results,\n",
    "    #     s.evaluators[\"area_volume\"].results,\n",
    "    #     left_on=\"identificatie\",\n",
    "    #     right_on=\"identificatie\",\n",
    "    #     suffixes=(\"_in\", \"_out\")\n",
    "    # )\n",
    "    # area_volume_df = pd.merge(\n",
    "    #     s.evaluators[\"area_volume_diff\"].area_volume_evaluator_1.results,\n",
    "    #     s.evaluators[\"area_volume_diff\"].area_volume_evaluator_2.results,\n",
    "    #     left_on=\"identificatie\",\n",
    "    #     right_on=\"identificatie\",\n",
    "    #     suffixes=(\"_in\", \"_out\")\n",
    "    # )\n",
    "    \n",
    "    cols = {\n",
    "        \"name\": name,\n",
    "        \"pulse_freq_hz\": get_config_item(s.config, \"pulse_freq_hz\"),\n",
    "        \"density_overall\": s.evaluators[\"point_density\"].results.loc[\"overall\", \"density\"],\n",
    "        \"density_buildings\": s.evaluators[\"point_density\"].results.loc[\"buildings\", \"density\"],\n",
    "        \"point_spacing_along\": point_spacing_along(velocity, get_config_item(s.config, \"scan_freq_hz\")),\n",
    "        \"point_spacing_across\": point_spacing_across(altitude, scan_angle_deg, get_config_item(s.config, \"pulse_freq_hz\"), get_config_item(s.config, \"scan_freq_hz\")),\n",
    "        \"std_horizontal_error\": get_config_item(s.config, \"std_horizontal_error\"),\n",
    "        \"std_vertical_error\": get_config_item(s.config, \"std_vertical_error\"),\n",
    "        \"std_fraction_of_max\": get_config_item(s.config, \"std_horizontal_error\") / std_horizontal_max,\n",
    "        \"point_mesh_distance_rms\": s.evaluators[\"point_mesh_distance\"].results.loc[\"buildings\", \"RMS\"],\n",
    "        \"point_mesh_distance_mean\": s.evaluators[\"point_mesh_distance\"].results.loc[\"buildings\", \"mean\"],\n",
    "        \"hausdorff_rms\": rms(s.evaluators[\"hausdorff\"].results[\"hausdorff.22\"]),\n",
    "        \"hausdorff_mean\": s.evaluators[\"hausdorff\"].results[\"hausdorff.22\"].mean(),\n",
    "        \"iou_rms\": rms(e.scenarios[name].evaluators[\"iou_3d\"].results[\"IOU_22\"]),\n",
    "        \"iou_mean\": e.scenarios[name].evaluators[\"iou_3d\"].results[\"IOU_22\"].mean(),\n",
    "        \"area_mean\": e.scenarios[name].evaluators[\"area_volume_diff\"].results[\"fme_area_22_out\"].mean(),\n",
    "        \"volume_mean\": e.scenarios[name].evaluators[\"area_volume_diff\"].results[\"fme_volume_22_out\"].mean(),\n",
    "        \"area_mean_diff\": e.scenarios[name].evaluators[\"area_volume_diff\"].results[\"fme_area_22_diff\"].mean(),\n",
    "        \"area_median_diff\": e.scenarios[name].evaluators[\"area_volume_diff\"].results[\"fme_area_22_diff\"].median(),\n",
    "        \"area_mean_abs_diff\": e.scenarios[name].evaluators[\"area_volume_diff\"].results[\"fme_area_22_diff\"].abs().mean(),\n",
    "        \"area_median_abs_diff\": e.scenarios[name].evaluators[\"area_volume_diff\"].results[\"fme_area_22_diff\"].abs().median(),\n",
    "        \"area_rms_diff\": rms(e.scenarios[name].evaluators[\"area_volume_diff\"].results[\"fme_area_22_diff\"]),\n",
    "        \"volume_mean_diff\": e.scenarios[name].evaluators[\"area_volume_diff\"].results[\"fme_volume_22_diff\"].mean(),\n",
    "        \"volume_median_diff\": e.scenarios[name].evaluators[\"area_volume_diff\"].results[\"fme_volume_22_diff\"].median(),\n",
    "        \"volume_mean_abs_diff\": e.scenarios[name].evaluators[\"area_volume_diff\"].results[\"fme_volume_22_diff\"].abs().mean(),\n",
    "        \"volume_median_abs_diff\": e.scenarios[name].evaluators[\"area_volume_diff\"].results[\"fme_volume_22_diff\"].abs().median(),\n",
    "        \"volume_rms_diff\": rms(e.scenarios[name].evaluators[\"area_volume_diff\"].results[\"fme_volume_22_diff\"]),\n",
    "        # todo: remove - this is now handled by AreaVolumeDifferenceEvaluator\n",
    "        # \"area_mean_2\": e.scenarios[name].evaluators[\"area_volume_diff\"].area_volume_evaluator_2.results[\"fme_area_22\"].mean(),\n",
    "        # \"volume_mean_2\": e.scenarios[name].evaluators[\"area_volume_diff\"].area_volume_evaluator_2.results[\"fme_volume_22\"].mean(),\n",
    "        # \"area_mean_diff_2\": (area_volume_df[\"fme_area_22_out\"] - area_volume_df[\"fme_area_22_in\"]).mean(),\n",
    "        # \"area_mean_abs_diff_2\": (area_volume_df[\"fme_area_22_out\"] - area_volume_df[\"fme_area_22_in\"]).abs().mean(),\n",
    "        # \"area_median_abs_diff_2\": (area_volume_df[\"fme_area_22_out\"] - area_volume_df[\"fme_area_22_in\"]).abs().median(),\n",
    "        # \"area_rms_diff_2\": rms(area_volume_df[\"fme_area_22_out\"] - area_volume_df[\"fme_area_22_in\"]),\n",
    "        # \"volume_mean_diff_2\": (area_volume_df[\"fme_volume_22_out\"] - area_volume_df[\"fme_volume_22_in\"]).mean(),\n",
    "        # \"volume_mean_abs_diff_2\": (area_volume_df[\"fme_volume_22_out\"] - area_volume_df[\"fme_volume_22_in\"]).abs().mean(),\n",
    "        # \"volume_median_abs_diff_2\": (area_volume_df[\"fme_volume_22_out\"] - area_volume_df[\"fme_volume_22_in\"]).abs().median(),\n",
    "        # \"volume_rms_diff_2\": rms(area_volume_df[\"fme_volume_22_out\"] - area_volume_df[\"fme_volume_22_in\"]),\n",
    "    }\n",
    "    rows.append(cols)\n",
    "\n",
    "eval_results = pd.DataFrame(rows).set_index(\"name\")"
   ],
   "id": "fddf046027def08a",
   "outputs": [],
   "execution_count": null
  },
  {
   "metadata": {},
   "cell_type": "code",
   "source": "eval_results",
   "id": "3134bf2b3089610e",
   "outputs": [],
   "execution_count": null
  },
  {
   "metadata": {},
   "cell_type": "code",
   "source": "eval_results[eval_results.std_fraction_of_max == 0.5]",
   "id": "a61c88de24dbd4d2",
   "outputs": [],
   "execution_count": null
  },
  {
   "metadata": {},
   "cell_type": "code",
   "source": "eval_results[eval_results.pulse_freq_hz == 250000]",
   "id": "4008f1a1ac45f203",
   "outputs": [],
   "execution_count": null
  },
  {
   "metadata": {},
   "cell_type": "code",
   "source": "list(eval_results.columns)",
   "id": "1e4a07653cd4ef7c",
   "outputs": [],
   "execution_count": null
  },
  {
   "metadata": {},
   "cell_type": "markdown",
   "source": "### Scatter plots",
   "id": "461026fb088f09b9"
  },
  {
   "metadata": {},
   "cell_type": "code",
   "source": [
    "fig, ax = plt.subplots() \n",
    "for name, group in eval_results.groupby(\"pulse_freq_hz\"):\n",
    "    ax.plot(group.std_fraction_of_max, group.point_mesh_distance_rms, marker=\"o\", label=str(name))\n",
    "ax.legend()\n",
    "plt.show()"
   ],
   "id": "3a236e88d5c02e7a",
   "outputs": [],
   "execution_count": null
  },
  {
   "metadata": {},
   "cell_type": "code",
   "source": [
    "def eval_plot(ax, x, y, error_steps=error_steps):\n",
    "    for i, fraction in enumerate(error_steps):\n",
    "        slice = eval_results[eval_results.std_fraction_of_max == fraction]\n",
    "        ax.plot(slice[x], slice[y], label=str(fraction), marker=\"o\")\n",
    "    \n",
    "    ax.legend()\n",
    "    ax.set_xlabel(x)\n",
    "    ax.set_ylabel(y)\n",
    "    \n",
    "    if y in [\"hausdorff_rms\", \"hausdorff_mean\", \"area_mean_abs_diff\", \"volume_mean_abs_diff\"]:\n",
    "        ax.set_ylim(bottom=0)\n",
    "    \n",
    "    if x in [\"point_spacing_along\", \"point_spacing_across\"]:\n",
    "        ax.xaxis.set_inverted(True)"
   ],
   "id": "2fb1c5da1784339a",
   "outputs": [],
   "execution_count": null
  },
  {
   "metadata": {},
   "cell_type": "code",
   "source": [
    "def eval_plot_multi(xs, ys):\n",
    "    fig, axs = plt.subplots(nrows=len(ys), ncols=len(xs), sharex=\"col\", sharey=\"row\", figsize=(4*len(xs), 4*len(ys)))\n",
    "\n",
    "    for i, y in enumerate(ys):\n",
    "        for j, x in enumerate(xs):\n",
    "            eval_plot(axs[i,j], x, y)"
   ],
   "id": "5086c05c82f46d48",
   "outputs": [],
   "execution_count": null
  },
  {
   "metadata": {},
   "cell_type": "code",
   "source": [
    "xs = [\"density_buildings\", \"point_spacing_along\"]\n",
    "ys = [\"area_mean_abs_diff\", \"area_median_abs_diff\", \"area_rms_diff\", \"volume_mean_abs_diff\", \"volume_median_abs_diff\", \"volume_rms_diff\"]\n",
    "\n",
    "eval_plot_multi(xs, ys)"
   ],
   "id": "79bdbca0a49ca29",
   "outputs": [],
   "execution_count": null
  },
  {
   "metadata": {},
   "cell_type": "code",
   "source": [
    "fig, ax = plt.subplots()\n",
    "eval_plot(ax, \"pulse_freq_hz\", \"area_mean_abs_diff\")"
   ],
   "id": "b824a60b2b53dc2b",
   "outputs": [],
   "execution_count": null
  },
  {
   "metadata": {},
   "cell_type": "code",
   "source": [
    "fig, ax = plt.subplots()\n",
    "eval_plot(ax, \"pulse_freq_hz\", \"point_spacing_across\")"
   ],
   "id": "50c1181352a29b6",
   "outputs": [],
   "execution_count": null
  },
  {
   "metadata": {},
   "cell_type": "code",
   "source": [
    "xs = [\"density_buildings\", \"point_spacing_along\"]\n",
    "# y = \"iou_mean\"\n",
    "ys = [\"iou_mean\", \"hausdorff_rms\", \"area_mean_abs_diff\", \"area_median_abs_diff\", \"volume_mean_abs_diff\", \"volume_median_abs_diff\"]\n",
    "\n",
    "eval_plot_multi(xs, ys)"
   ],
   "id": "d706fb14684d8de1",
   "outputs": [],
   "execution_count": null
  },
  {
   "metadata": {},
   "cell_type": "markdown",
   "source": "### Histograms",
   "id": "ba6a78ff549c77f2"
  },
  {
   "metadata": {},
   "cell_type": "code",
   "source": [
    "# Trying to identify the building in scenario_024 that has the extreme area_abs_diff of over 1000 m².\n",
    "# Turns out: NL.IMBAG.Pand.0503100000028983\n",
    "name = \"scenario_024\"\n",
    "area_volume_df = pd.merge(\n",
    "        e.input_evaluators[\"area_volume\"].results,\n",
    "        e.scenarios[name].evaluators[\"area_volume\"].results,\n",
    "        left_on=\"identificatie\",\n",
    "        right_on=\"identificatie\",\n",
    "        suffixes=(\"_in\", \"_out\")\n",
    "    )\n",
    "area_volume_df[\"area_diff\"] = area_volume_df.fme_area_22_out - area_volume_df.fme_area_22_in\n",
    "area_volume_df[\"area_abs_diff\"] = (area_volume_df.fme_area_22_out - area_volume_df.fme_area_22_in).abs()\n",
    "area_volume_df[\"volume_diff\"] = area_volume_df.fme_volume_22_out - area_volume_df.fme_volume_22_in\n",
    "area_volume_df[\"volume_abs_diff\"] = (area_volume_df.fme_volume_22_out - area_volume_df.fme_volume_22_in).abs()\n",
    "area_volume_df"
   ],
   "id": "464c567263e8756f",
   "outputs": [],
   "execution_count": null
  },
  {
   "metadata": {},
   "cell_type": "code",
   "source": [
    "# Relation of area and volume difference\n",
    "plt.scatter(area_volume_df.area_diff, area_volume_df.volume_diff)\n",
    "plt.show()"
   ],
   "id": "7e180f8570534711",
   "outputs": [],
   "execution_count": null
  },
  {
   "metadata": {},
   "cell_type": "code",
   "source": [
    "# Relation of area and volume difference\n",
    "plt.scatter(eval_results.area_diff, area_volume_df.volume_diff)\n",
    "plt.show()"
   ],
   "id": "cda4253c876f112f",
   "outputs": [],
   "execution_count": null
  },
  {
   "metadata": {},
   "cell_type": "code",
   "source": [
    "scenario_names = [f\"scenario_{i:03}\" for i in range(25)]\n",
    "\n",
    "iou_22 = [e.scenarios[name].evaluators[\"iou_3d\"].results[\"IOU_22\"] for name in scenario_names]\n",
    "hausdorff_22 = [e.scenarios[name].evaluators[\"hausdorff\"].results[\"hausdorff.22\"] for name in scenario_names]\n",
    "\n",
    "volume_diffs, volume_abs_diffs, area_diffs, area_abs_diffs = [[] for i in range(4)]\n",
    "for name in scenario_names:\n",
    "    area_volume_df = pd.merge(\n",
    "        e.input_evaluators[\"area_volume\"].results,\n",
    "        e.scenarios[name].evaluators[\"area_volume\"].results,\n",
    "        left_on=\"identificatie\",\n",
    "        right_on=\"identificatie\",\n",
    "        suffixes=(\"_in\", \"_out\")\n",
    "    )\n",
    "    volume_diffs.append(area_volume_df[\"fme_volume_22_out\"] - area_volume_df[\"fme_volume_22_in\"])    \n",
    "    volume_abs_diffs.append(volume_diffs[-1].abs())\n",
    "    area_diffs.append(area_volume_df[\"fme_area_22_out\"] - area_volume_df[\"fme_area_22_in\"])    \n",
    "    area_abs_diffs.append(area_diffs[-1].abs())"
   ],
   "id": "c336c8613ef23d70",
   "outputs": [],
   "execution_count": null
  },
  {
   "metadata": {},
   "cell_type": "code",
   "source": [
    "def hist_grid(data, names, shape=(5, 5), title=None, bins=30):\n",
    "    n_rows, n_cols = shape\n",
    "    names_layout = np.array(names).reshape(shape, order=\"F\")\n",
    "    \n",
    "    # Function to get 1-dim list position from row and column\n",
    "    def iloc(row, col):\n",
    "        return row + n_rows * col\n",
    "    \n",
    "    fig, axs = plt.subplots(nrows=n_rows, ncols=n_cols, sharex=\"col\", figsize=(5*n_cols, 3*n_rows))\n",
    "    \n",
    "    for col in range(n_cols):\n",
    "        # Get identical bins for all data series in this column\n",
    "        bins_np = np.histogram(\n",
    "            pd.concat(\n",
    "                data[iloc(0, col) : iloc(n_rows, col)]\n",
    "            ).dropna(),\n",
    "            bins=bins\n",
    "        )[1]  # get the bin boundaries\n",
    "        \n",
    "        for row in range(n_rows):\n",
    "            axs[row, col].hist(data[iloc(row, col)], bins=bins_np)\n",
    "            axs[row, col].set_title(names_layout[row, col])\n",
    "    \n",
    "    if title is not None:\n",
    "        fig.suptitle(title)\n",
    "    plt.show()\n",
    "\n",
    "titles = [f\"{name} – D: {eval_results.density_buildings[name]:.1f}, A: {eval_results.std_fraction_of_max[name]}\" for name in scenario_names]\n",
    "\n",
    "hist_grid(area_diffs, titles, bins=25)"
   ],
   "id": "aa7fcdf53ad7fde6",
   "outputs": [],
   "execution_count": null
  },
  {
   "metadata": {},
   "cell_type": "code",
   "source": "np.array(scenario_names).reshape((5, 5), order=\"F\")",
   "id": "ce3aa2e36dc43f70",
   "outputs": [],
   "execution_count": null
  },
  {
   "metadata": {},
   "cell_type": "code",
   "source": [
    "scenario_names = [f\"scenario_{2+5*i:03}\" for i in range(5)]\n",
    "scenario_names = [f\"scenario_{5+i:03}\" for i in range(5)]\n",
    "\n",
    "def hist_multi(data, names, title=None, bins=30):\n",
    "    bins_np = np.histogram(pd.concat(data).dropna(), bins=bins)[1]  # get the bin boundaries\n",
    "    fig, axs = plt.subplots(len(data), 1, sharex=True, sharey=False, figsize=(5, 3*len(data)))\n",
    "    for i, series in enumerate(data):\n",
    "        axs[i].hist(series, bins=bins_np)\n",
    "        axs[i].set_title(names[i])\n",
    "    if title is not None:\n",
    "        fig.suptitle(title)\n",
    "    plt.show()\n",
    "\n",
    "iou_22 = [e.scenarios[name].evaluators[\"iou_3d\"].results[\"IOU_22\"] for name in scenario_names]\n",
    "hausdorff_22 = [e.scenarios[name].evaluators[\"hausdorff\"].results[\"hausdorff.22\"] for name in scenario_names]\n",
    "\n",
    "volume_diffs, volume_abs_diffs, area_diffs, area_abs_diffs = [[] for i in range(4)]\n",
    "for name in scenario_names:\n",
    "    area_volume_df = pd.merge(\n",
    "        e.input_evaluators[\"area_volume\"].results,\n",
    "        e.scenarios[name].evaluators[\"area_volume\"].results,\n",
    "        left_on=\"identificatie\",\n",
    "        right_on=\"identificatie\",\n",
    "        suffixes=(\"_in\", \"_out\")\n",
    "    )\n",
    "    volume_diffs.append(area_volume_df[\"fme_volume_22_out\"] - area_volume_df[\"fme_volume_22_in\"])    \n",
    "    volume_abs_diffs.append(volume_diffs[-1].abs())\n",
    "    area_diffs.append(area_volume_df[\"fme_area_22_out\"] - area_volume_df[\"fme_area_22_in\"])    \n",
    "    area_abs_diffs.append(area_diffs[-1].abs())\n",
    "\n",
    "hist_multi(area_diffs, scenario_names, bins=25)"
   ],
   "id": "d989326e112ac0e6",
   "outputs": [],
   "execution_count": null
  },
  {
   "metadata": {},
   "cell_type": "code",
   "source": [
    "scenario_names = [f\"scenario_{2+5*i:03}\" for i in range(5)]\n",
    "scenario_names = [f\"scenario_{5+i:03}\" for i in range(5)]\n",
    "\n",
    "plt.hist([e.scenarios[name].evaluators[\"iou_3d\"].results[\"IOU_22\"] for name in scenario_names], label=scenario_names)\n",
    "plt.title(\"IOU\")\n",
    "plt.legend()\n",
    "plt.show()\n",
    "\n",
    "plt.hist([e.scenarios[name].evaluators[\"hausdorff\"].results[\"hausdorff.22\"] for name in scenario_names], label=scenario_names)\n",
    "plt.title(\"Hausdorff distance\")\n",
    "plt.legend()\n",
    "plt.show()\n",
    "\n",
    "volume_diffs, volume_abs_diffs, area_diffs, area_abs_diffs = [[] for i in range(4)]\n",
    "for name in scenario_names:\n",
    "    area_volume_df = pd.merge(\n",
    "        e.input_evaluators[\"area_volume\"].results,\n",
    "        e.scenarios[name].evaluators[\"area_volume\"].results,\n",
    "        left_on=\"identificatie\",\n",
    "        right_on=\"identificatie\",\n",
    "        suffixes=(\"_in\", \"_out\")\n",
    "    )\n",
    "    volume_diffs.append(area_volume_df[\"fme_volume_22_out\"] - area_volume_df[\"fme_volume_22_in\"])    \n",
    "    volume_abs_diffs.append(volume_diffs[-1].abs())\n",
    "    area_diffs.append(area_volume_df[\"fme_area_22_out\"] - area_volume_df[\"fme_area_22_in\"])    \n",
    "    area_abs_diffs.append(area_diffs[-1].abs())\n",
    "\n",
    "plt.hist(volume_diffs, label=scenario_names)\n",
    "plt.title(\"Volume difference\")\n",
    "plt.legend()\n",
    "plt.show()\n",
    "\n",
    "plt.hist(volume_abs_diffs, label=scenario_names)\n",
    "plt.title(\"Volume difference (absolute value)\")\n",
    "plt.legend()\n",
    "plt.show()\n",
    "\n",
    "plt.hist(area_diffs, label=scenario_names)\n",
    "plt.title(\"Area difference\")\n",
    "plt.legend()\n",
    "plt.show()\n",
    "\n",
    "plt.hist(area_abs_diffs, label=scenario_names)\n",
    "plt.title(\"Area difference (absolute value)\")\n",
    "plt.legend()\n",
    "plt.show()"
   ],
   "id": "72fda7aa6c06ae55",
   "outputs": [],
   "execution_count": null
  }
 ],
 "metadata": {
  "kernelspec": {
   "display_name": "Python 3",
   "language": "python",
   "name": "python3"
  },
  "language_info": {
   "codemirror_mode": {
    "name": "ipython",
    "version": 2
   },
   "file_extension": ".py",
   "mimetype": "text/x-python",
   "name": "python",
   "nbconvert_exporter": "python",
   "pygments_lexer": "ipython2",
   "version": "2.7.6"
  }
 },
 "nbformat": 4,
 "nbformat_minor": 5
}
