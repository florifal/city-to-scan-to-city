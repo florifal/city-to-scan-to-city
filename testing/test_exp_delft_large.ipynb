{
 "cells": [
  {
   "metadata": {},
   "cell_type": "code",
   "source": [
    "import experiment_setup.exp_delft_large\n",
    "from experiment.scenario import *\n",
    "from pathlib import Path\n",
    "import pandas as pd\n",
    "import geopandas as gpd\n",
    "import numpy as np\n",
    "import matplotlib.pyplot as plt\n",
    "\n",
    "from experiment.utils import scan_freq_from_pulse_freq_via_point_spacing, point_spacing_along, point_spacing_across, rms"
   ],
   "id": "df508511b49ce9e4",
   "outputs": [],
   "execution_count": null
  },
  {
   "metadata": {},
   "cell_type": "markdown",
   "source": "# Experiment Test Case Delft Large",
   "id": "aa7a3b15beb9e145"
  },
  {
   "metadata": {},
   "cell_type": "code",
   "source": "from experiment_setup.exp_delft_large import *",
   "id": "9a024ca8461cde92",
   "outputs": [],
   "execution_count": null
  },
  {
   "metadata": {},
   "cell_type": "code",
   "source": "e.setup()",
   "id": "267e5041da43cdfa",
   "outputs": [],
   "execution_count": null
  },
  {
   "metadata": {},
   "cell_type": "code",
   "source": "e.run_step(Scenario.setup_survey)",
   "id": "8d6a4b4d06231372",
   "outputs": [],
   "execution_count": null
  },
  {
   "metadata": {},
   "cell_type": "code",
   "source": [
    "scenarios_unique_surveys = [f\"scenario_{(i*5):03}\" for i in range(5)]\n",
    "print(scenarios_unique_surveys)\n",
    "# scenarios_unique_surveys = None"
   ],
   "id": "f8f96f8e7bcfa7a4",
   "outputs": [],
   "execution_count": null
  },
  {
   "metadata": {},
   "cell_type": "code",
   "source": "e.run_step(Scenario.prepare_survey, scenarios=scenarios_unique_surveys)",
   "id": "148a972e19016b5f",
   "outputs": [],
   "execution_count": null
  },
  {
   "metadata": {},
   "cell_type": "code",
   "source": "e.run_step(Scenario.run_survey, scenarios=scenarios_unique_surveys[0])",
   "id": "5501dadff00fe6e0",
   "outputs": [],
   "execution_count": null
  },
  {
   "metadata": {},
   "cell_type": "code",
   "source": "e.run_step(Scenario.run_survey, scenarios=scenarios_unique_surveys[4])",
   "id": "dbcbae1f40de1ac5",
   "outputs": [],
   "execution_count": null
  },
  {
   "metadata": {},
   "cell_type": "code",
   "source": "e.run_step(Scenario.process_point_cloud, scenarios=scenarios_unique_surveys[4])",
   "id": "b6328935b64a5955",
   "outputs": [],
   "execution_count": null
  },
  {
   "metadata": {},
   "cell_type": "code",
   "source": "e.run_step(Scenario.setup_reconstruction, scenarios=scenarios_unique_surveys[4])",
   "id": "8c8b841915a2f0c",
   "outputs": [],
   "execution_count": null
  },
  {
   "metadata": {},
   "cell_type": "code",
   "source": "e.run_step(Scenario.prepare_reconstruction, scenarios=scenarios_unique_surveys[4])",
   "id": "b87d3db73783b652",
   "outputs": [],
   "execution_count": null
  },
  {
   "metadata": {},
   "cell_type": "code",
   "source": "e.run_step(Scenario.run_reconstruction, scenarios=scenarios_unique_surveys[4])",
   "id": "8baeb62f2e87378b",
   "outputs": [],
   "execution_count": null
  },
  {
   "metadata": {},
   "cell_type": "code",
   "source": "e.run_step(Scenario.setup_evaluation, scenarios=scenarios_unique_surveys[4])",
   "id": "9c30a2061f1d1266",
   "outputs": [],
   "execution_count": null
  },
  {
   "metadata": {},
   "cell_type": "code",
   "source": "e.run_step(Scenario.run_evaluation, scenarios=scenarios_unique_surveys[4], evaluator_selection=\"geoflow_output\")",
   "id": "ec0b1f87944e0a90",
   "outputs": [],
   "execution_count": null
  },
  {
   "metadata": {},
   "cell_type": "code",
   "source": "e[20].evaluators[\"geoflow_output\"].gpkg_eval.results_df.loc[\"num_unique\", \"22\"]",
   "id": "6ff4c052c6f92e7f",
   "outputs": [],
   "execution_count": null
  }
 ],
 "metadata": {
  "kernelspec": {
   "display_name": "Python 3",
   "language": "python",
   "name": "python3"
  },
  "language_info": {
   "codemirror_mode": {
    "name": "ipython",
    "version": 2
   },
   "file_extension": ".py",
   "mimetype": "text/x-python",
   "name": "python",
   "nbconvert_exporter": "python",
   "pygments_lexer": "ipython2",
   "version": "2.7.6"
  }
 },
 "nbformat": 4,
 "nbformat_minor": 5
}
