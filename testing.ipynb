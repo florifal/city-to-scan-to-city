{
 "cells": [
  {
   "cell_type": "code",
   "id": "initial_id",
   "metadata": {
    "collapsed": true,
    "ExecuteTime": {
     "end_time": "2024-05-22T03:02:22.545635Z",
     "start_time": "2024-05-22T03:02:22.278619Z"
    }
   },
   "source": [
    "from global_vars import *\n",
    "from scenario import *\n",
    "from pathlib import Path\n",
    "import numpy as np"
   ],
   "outputs": [],
   "execution_count": 1
  },
  {
   "metadata": {},
   "cell_type": "markdown",
   "source": "# Scene XML generation",
   "id": "cea18d01b71bf315"
  },
  {
   "metadata": {
    "ExecuteTime": {
     "end_time": "2024-05-22T03:02:26.864355Z",
     "start_time": "2024-05-22T03:02:26.854256Z"
    }
   },
   "cell_type": "code",
   "source": [
    "scene_filepath = r\"temp\\scene.xml\"\n",
    "obj_filepath = Path(helios_dirpath, \"data/sceneparts/Delft/9-276-556-LoD22-3D.obj\")\n",
    "tiff_filepath = Path(helios_dirpath, \"data/sceneparts/Delft/M5_37EN1_5_m_filled.TIF\")\n",
    "tiff_mat_filepath = Path(helios_dirpath, \"data/sceneparts/Delft/M5_37EN1_5_m_filled.TIF.mtl\")"
   ],
   "id": "f3f4f52916d79ebf",
   "outputs": [],
   "execution_count": 2
  },
  {
   "metadata": {
    "ExecuteTime": {
     "end_time": "2024-05-22T03:02:27.441811Z",
     "start_time": "2024-05-22T03:02:27.429289Z"
    }
   },
   "cell_type": "code",
   "source": [
    "scene_part_obj = ScenePartOBJ(obj_filepath, up_axis=\"z\")\n",
    "scene_part_tiff = ScenePartTIFF(tiff_filepath, tiff_mat_filepath, \"ground\")"
   ],
   "id": "e72b8ef1724b8034",
   "outputs": [],
   "execution_count": 3
  },
  {
   "metadata": {
    "ExecuteTime": {
     "end_time": "2024-05-22T03:02:27.846786Z",
     "start_time": "2024-05-22T03:02:27.828748Z"
    }
   },
   "cell_type": "code",
   "source": [
    "scene = Scene(xml_id=\"Delft\", name=\"Delft\", filepath=scene_filepath)\n",
    "scene.add_scene_parts([scene_part_tiff, scene_part_obj])"
   ],
   "id": "a70c5c6094936a9d",
   "outputs": [],
   "execution_count": 4
  },
  {
   "metadata": {
    "ExecuteTime": {
     "end_time": "2024-05-22T03:02:30.283388Z",
     "start_time": "2024-05-22T03:02:30.274897Z"
    }
   },
   "cell_type": "code",
   "source": [
    "scene.create_xml_string()\n",
    "print(scene.xml_string)"
   ],
   "id": "12a6b10bd76c7cc5",
   "outputs": [
    {
     "name": "stdout",
     "output_type": "stream",
     "text": [
      "<?xml version=\"1.0\" encoding=\"UTF-8\"?>\n",
      "<document>\n",
      "    <scene id=\"Delft\" name=\"Delft\">\n",
      "        \n",
      "        <part>\n",
      "            <filter type=\"geotiffloader\">\n",
      "                <param type=\"string\" key=\"filepath\" value=\"C:\\Users\\Florian\\Apps\\helios-plusplus-win\\data\\sceneparts\\Delft\\M5_37EN1_5_m_filled.TIF\" />\n",
      "                <param type=\"string\" key=\"matfile\" value=\"C:\\Users\\Florian\\Apps\\helios-plusplus-win\\data\\sceneparts\\Delft\\M5_37EN1_5_m_filled.TIF.mtl\" />\n",
      "                <param type=\"string\" key=\"matname\" value=\"ground\" />\n",
      "            </filter>\n",
      "            \n",
      "        </part>\n",
      "\n",
      "        <part>\n",
      "            <filter type=\"objloader\">\n",
      "                <param type=\"string\" key=\"filepath\" value=\"C:\\Users\\Florian\\Apps\\helios-plusplus-win\\data\\sceneparts\\Delft\\9-276-556-LoD22-3D.obj\" />\n",
      "                <param type=\"string\" key=\"up\" value=\"z\" />\n",
      "            </filter>\n",
      "            \n",
      "            \n",
      "        </part>\n",
      "    </scene>\n",
      "</document>\n"
     ]
    }
   ],
   "execution_count": 5
  },
  {
   "metadata": {},
   "cell_type": "code",
   "outputs": [],
   "execution_count": null,
   "source": "scene.write_scene_file()",
   "id": "ba1e0fbfbbeac405"
  },
  {
   "metadata": {},
   "cell_type": "markdown",
   "source": "# Flight path generation",
   "id": "b20e4192e80c4e55"
  },
  {
   "metadata": {
    "ExecuteTime": {
     "end_time": "2024-05-22T03:02:34.026509Z",
     "start_time": "2024-05-22T03:02:34.001410Z"
    }
   },
   "cell_type": "code",
   "source": [
    "flight_path_filepath = r\"temp\\flight_path.xml\"\n",
    "\n",
    "def buffer_bbox(bbox, buffer_width = 50):\n",
    "    bbox_buffer = np.array([-buffer_width, -buffer_width, buffer_width, buffer_width])\n",
    "    bbox = bbox + bbox_buffer\n",
    "    width = bbox_float[2] - bbox_float[0]\n",
    "    height = bbox_float[3] - bbox_float[1]\n",
    "    print(f\"Width:  {width}\")\n",
    "    print(f\"Height: {height}\")\n",
    "    return bbox\n",
    "\n",
    "# bbox as [West, South, East, North]\n",
    "bbox_float = [82585.1719, 445871.2500, 83613.3906, 446896.7813]\n",
    "bbox_float = buffer_bbox(bbox_float, buffer_width=50)\n",
    "bbox_int = np.round(bbox_float).astype(int)\n",
    "\n",
    "strip_spacing = (bbox_int[3] - bbox_int[1]) / 5\n",
    "altitude = 500\n",
    "platform_speed = 60"
   ],
   "id": "24e47e280c2a831a",
   "outputs": [
    {
     "name": "stdout",
     "output_type": "stream",
     "text": [
      "Width:  1028.2186999999976\n",
      "Height: 1025.5312999999733\n"
     ]
    }
   ],
   "execution_count": 6
  },
  {
   "metadata": {
    "ExecuteTime": {
     "end_time": "2024-05-22T03:02:35.686760Z",
     "start_time": "2024-05-22T03:02:35.678241Z"
    }
   },
   "cell_type": "code",
   "source": "flight_path = FlightPath(flight_path_filepath, bbox_int, strip_spacing, altitude, platform_speed)",
   "id": "3e1bbc6ef5d99ab3",
   "outputs": [],
   "execution_count": 7
  },
  {
   "metadata": {
    "ExecuteTime": {
     "end_time": "2024-05-22T03:02:36.167913Z",
     "start_time": "2024-05-22T03:02:36.153371Z"
    }
   },
   "cell_type": "code",
   "source": "flight_path.compute_waypoints()",
   "id": "ddb13420dcbd3f44",
   "outputs": [],
   "execution_count": 8
  },
  {
   "metadata": {
    "ExecuteTime": {
     "end_time": "2024-05-22T03:02:36.980856Z",
     "start_time": "2024-05-22T03:02:36.969329Z"
    }
   },
   "cell_type": "code",
   "source": "flight_path.create_element_tree()",
   "id": "389853df5892e066",
   "outputs": [],
   "execution_count": 9
  },
  {
   "metadata": {
    "ExecuteTime": {
     "end_time": "2024-05-22T02:56:37.679Z",
     "start_time": "2024-05-22T02:56:37.664467Z"
    }
   },
   "cell_type": "code",
   "source": "list(flight_path.tree.getroot().iter())",
   "id": "c49a0e94012d4f4b",
   "outputs": [
    {
     "data": {
      "text/plain": [
       "[<Element 'survey' at 0x0000021CA4D9F6F0>,\n",
       " <Element <function Comment at 0x0000021CA65325F0> at 0x0000021CA4D9F240>,\n",
       " <Element 'leg' at 0x0000021CA93FA070>,\n",
       " <Element 'platformSettings' at 0x0000021CA4D9EC50>,\n",
       " <Element 'scannerSettings' at 0x0000021CA4D9EC00>,\n",
       " <Element <function Comment at 0x0000021CA65325F0> at 0x0000021CA4D9E930>,\n",
       " <Element 'leg' at 0x0000021CA4D9ED40>,\n",
       " <Element 'platformSettings' at 0x0000021CA4D9EBB0>,\n",
       " <Element 'scannerSettings' at 0x0000021CA4D9EB10>,\n",
       " <Element <function Comment at 0x0000021CA65325F0> at 0x0000021CA4D9E9D0>,\n",
       " <Element 'leg' at 0x0000021CA4D9EDE0>,\n",
       " <Element 'platformSettings' at 0x0000021CA4D9E7A0>,\n",
       " <Element 'scannerSettings' at 0x0000021CA4D9EA70>,\n",
       " <Element <function Comment at 0x0000021CA65325F0> at 0x0000021CA4D9ECF0>,\n",
       " <Element 'leg' at 0x0000021CA4D9ECA0>,\n",
       " <Element 'platformSettings' at 0x0000021CA4D9E7F0>,\n",
       " <Element 'scannerSettings' at 0x0000021CA4D9EE80>,\n",
       " <Element <function Comment at 0x0000021CA65325F0> at 0x0000021CA4D9F1A0>,\n",
       " <Element 'leg' at 0x0000021CA4D9EF20>,\n",
       " <Element 'platformSettings' at 0x0000021CA4D9F010>,\n",
       " <Element 'scannerSettings' at 0x0000021CA4D9F0B0>,\n",
       " <Element <function Comment at 0x0000021CA65325F0> at 0x0000021CA4D9ED90>,\n",
       " <Element 'leg' at 0x0000021CA4D9EED0>,\n",
       " <Element 'platformSettings' at 0x0000021CA4D9EE30>,\n",
       " <Element 'scannerSettings' at 0x0000021CA4D9F060>,\n",
       " <Element <function Comment at 0x0000021CA65325F0> at 0x0000021CA4D9F2E0>,\n",
       " <Element 'leg' at 0x0000021CA4D9F150>,\n",
       " <Element 'platformSettings' at 0x0000021CA4D9F6A0>,\n",
       " <Element 'scannerSettings' at 0x0000021CA4D9F650>,\n",
       " <Element <function Comment at 0x0000021CA65325F0> at 0x0000021CA4D9F3D0>,\n",
       " <Element 'leg' at 0x0000021CA4D9F290>,\n",
       " <Element 'platformSettings' at 0x0000021CA4D9F380>,\n",
       " <Element 'scannerSettings' at 0x0000021CA4D9F1F0>,\n",
       " <Element <function Comment at 0x0000021CA65325F0> at 0x0000021CA4D9F740>,\n",
       " <Element 'leg' at 0x0000021CA4D9F420>,\n",
       " <Element 'platformSettings' at 0x0000021CA4D9F4C0>,\n",
       " <Element 'scannerSettings' at 0x0000021CA4D9F9C0>,\n",
       " <Element <function Comment at 0x0000021CA65325F0> at 0x0000021CA4D9F970>,\n",
       " <Element 'leg' at 0x0000021CA4D9F920>,\n",
       " <Element 'platformSettings' at 0x0000021CA4D9FA10>,\n",
       " <Element 'scannerSettings' at 0x0000021CA4D9F790>,\n",
       " <Element <function Comment at 0x0000021CA65325F0> at 0x0000021CA4D9FAB0>,\n",
       " <Element 'leg' at 0x0000021CA4D9FB00>,\n",
       " <Element 'platformSettings' at 0x0000021CA4D9FBA0>,\n",
       " <Element 'scannerSettings' at 0x0000021CA4D9FBF0>,\n",
       " <Element <function Comment at 0x0000021CA65325F0> at 0x0000021CA4D9FD80>,\n",
       " <Element 'leg' at 0x0000021CA4D9FB50>,\n",
       " <Element 'platformSettings' at 0x0000021CA4D9FE70>,\n",
       " <Element 'scannerSettings' at 0x0000021CA4D9FEC0>]"
      ]
     },
     "execution_count": 9,
     "metadata": {},
     "output_type": "execute_result"
    }
   ],
   "execution_count": 9
  },
  {
   "metadata": {
    "ExecuteTime": {
     "end_time": "2024-05-22T02:56:54.728269Z",
     "start_time": "2024-05-22T02:56:54.712252Z"
    }
   },
   "cell_type": "code",
   "source": [
    "flight_path.create_xml_string()\n",
    "print(flight_path.xml_string)"
   ],
   "id": "88b5169c71904b52",
   "outputs": [
    {
     "name": "stdout",
     "output_type": "stream",
     "text": [
      "<survey>\n",
      "    <!--leg 000-->\n",
      "    <leg>\n",
      "        <platformSettings x=\"83663.0\" y=\"445821.0\" z=\"500\" movePerSec_m=\"60\" />\n",
      "        <scannerSettings template=\"scanner_settings\" trajectoryTimeInterval_s=\"0.05\" />\n",
      "    </leg>\n",
      "    <!--leg 001-->\n",
      "    <leg>\n",
      "        <platformSettings x=\"82535.0\" y=\"445821.0\" z=\"500\" movePerSec_m=\"60\" />\n",
      "        <scannerSettings template=\"scanner_settings\" trajectoryTimeInterval_s=\"0.05\" active=\"false\" />\n",
      "    </leg>\n",
      "    <!--leg 002-->\n",
      "    <leg>\n",
      "        <platformSettings x=\"82535.0\" y=\"446046.2\" z=\"500\" movePerSec_m=\"60\" />\n",
      "        <scannerSettings template=\"scanner_settings\" trajectoryTimeInterval_s=\"0.05\" />\n",
      "    </leg>\n",
      "    <!--leg 003-->\n",
      "    <leg>\n",
      "        <platformSettings x=\"83663.0\" y=\"446046.2\" z=\"500\" movePerSec_m=\"60\" />\n",
      "        <scannerSettings template=\"scanner_settings\" trajectoryTimeInterval_s=\"0.05\" active=\"false\" />\n",
      "    </leg>\n",
      "    <!--leg 004-->\n",
      "    <leg>\n",
      "        <platformSettings x=\"83663.0\" y=\"446271.4\" z=\"500\" movePerSec_m=\"60\" />\n",
      "        <scannerSettings template=\"scanner_settings\" trajectoryTimeInterval_s=\"0.05\" />\n",
      "    </leg>\n",
      "    <!--leg 005-->\n",
      "    <leg>\n",
      "        <platformSettings x=\"82535.0\" y=\"446271.4\" z=\"500\" movePerSec_m=\"60\" />\n",
      "        <scannerSettings template=\"scanner_settings\" trajectoryTimeInterval_s=\"0.05\" active=\"false\" />\n",
      "    </leg>\n",
      "    <!--leg 006-->\n",
      "    <leg>\n",
      "        <platformSettings x=\"82535.0\" y=\"446496.60000000003\" z=\"500\" movePerSec_m=\"60\" />\n",
      "        <scannerSettings template=\"scanner_settings\" trajectoryTimeInterval_s=\"0.05\" />\n",
      "    </leg>\n",
      "    <!--leg 007-->\n",
      "    <leg>\n",
      "        <platformSettings x=\"83663.0\" y=\"446496.60000000003\" z=\"500\" movePerSec_m=\"60\" />\n",
      "        <scannerSettings template=\"scanner_settings\" trajectoryTimeInterval_s=\"0.05\" active=\"false\" />\n",
      "    </leg>\n",
      "    <!--leg 008-->\n",
      "    <leg>\n",
      "        <platformSettings x=\"83663.0\" y=\"446721.80000000005\" z=\"500\" movePerSec_m=\"60\" />\n",
      "        <scannerSettings template=\"scanner_settings\" trajectoryTimeInterval_s=\"0.05\" />\n",
      "    </leg>\n",
      "    <!--leg 009-->\n",
      "    <leg>\n",
      "        <platformSettings x=\"82535.0\" y=\"446721.80000000005\" z=\"500\" movePerSec_m=\"60\" />\n",
      "        <scannerSettings template=\"scanner_settings\" trajectoryTimeInterval_s=\"0.05\" active=\"false\" />\n",
      "    </leg>\n",
      "    <!--leg 010-->\n",
      "    <leg>\n",
      "        <platformSettings x=\"82535.0\" y=\"446947.00000000006\" z=\"500\" movePerSec_m=\"60\" />\n",
      "        <scannerSettings template=\"scanner_settings\" trajectoryTimeInterval_s=\"0.05\" />\n",
      "    </leg>\n",
      "    <!--leg 011-->\n",
      "    <leg>\n",
      "        <platformSettings x=\"83663.0\" y=\"446947.00000000006\" z=\"500\" movePerSec_m=\"60\" />\n",
      "        <scannerSettings template=\"scanner_settings\" trajectoryTimeInterval_s=\"0.05\" active=\"false\" />\n",
      "    </leg>\n",
      "</survey>\n"
     ]
    }
   ],
   "execution_count": 10
  },
  {
   "metadata": {
    "ExecuteTime": {
     "end_time": "2024-05-22T02:57:16.739330Z",
     "start_time": "2024-05-22T02:57:16.730802Z"
    }
   },
   "cell_type": "code",
   "source": "flight_path.write_flight_path_file()",
   "id": "1b66706ec4a32c33",
   "outputs": [],
   "execution_count": 11
  },
  {
   "metadata": {},
   "cell_type": "markdown",
   "source": "# Survey generation",
   "id": "a29353a6a56b5560"
  },
  {
   "metadata": {
    "ExecuteTime": {
     "end_time": "2024-05-22T03:02:48.050419Z",
     "start_time": "2024-05-22T03:02:48.036870Z"
    }
   },
   "cell_type": "code",
   "source": [
    "survey_filepath = r\"temp\\survey.xml\"\n",
    "platform_xml_path = str(Path(helios_dirpath, \"data/platforms.xml#sr22\"))\n",
    "scanner_xml_path = str(Path(helios_dirpath, \"data/scanners_als.xml#riegl_vq_780i\"))\n",
    "\n",
    "survey = Survey(\n",
    "    name=\"Delft\",\n",
    "    filepath=survey_filepath,\n",
    "    scene=scene,\n",
    "    platform=platform_xml_path,\n",
    "    scanner=scanner_xml_path,\n",
    "    flight_path=flight_path #_filepath\n",
    ")"
   ],
   "id": "779513d23acd77a",
   "outputs": [],
   "execution_count": 10
  },
  {
   "metadata": {
    "ExecuteTime": {
     "end_time": "2024-05-22T03:02:49.986060Z",
     "start_time": "2024-05-22T03:02:49.967917Z"
    }
   },
   "cell_type": "code",
   "source": "survey.populate_template()",
   "id": "8bceeab8897cca99",
   "outputs": [],
   "execution_count": 11
  },
  {
   "metadata": {
    "ExecuteTime": {
     "end_time": "2024-05-22T03:02:50.486011Z",
     "start_time": "2024-05-22T03:02:50.464963Z"
    }
   },
   "cell_type": "code",
   "source": "survey.write_survey_file()",
   "id": "a19bb4ec6ba1dde2",
   "outputs": [],
   "execution_count": 12
  },
  {
   "metadata": {},
   "cell_type": "markdown",
   "source": "# Generating element tree from scratch",
   "id": "278e26fb7dce0d5c"
  },
  {
   "metadata": {
    "ExecuteTime": {
     "end_time": "2024-05-22T02:00:20.554786Z",
     "start_time": "2024-05-22T02:00:20.543278Z"
    }
   },
   "cell_type": "code",
   "source": "import xml.etree.ElementTree as eT",
   "id": "75ef754da129d8a5",
   "outputs": [],
   "execution_count": 5
  },
  {
   "metadata": {
    "ExecuteTime": {
     "end_time": "2024-05-22T02:00:21.260834Z",
     "start_time": "2024-05-22T02:00:21.248311Z"
    }
   },
   "cell_type": "code",
   "source": [
    "root = eT.Element(\"survey\")\n",
    "tree = eT.ElementTree(root)"
   ],
   "id": "4d397b2b33039771",
   "outputs": [],
   "execution_count": 6
  },
  {
   "metadata": {
    "ExecuteTime": {
     "end_time": "2024-05-22T02:00:22.760234Z",
     "start_time": "2024-05-22T02:00:22.744180Z"
    }
   },
   "cell_type": "code",
   "source": "flight_path.waypoints",
   "id": "98ba0f71b9d0dbeb",
   "outputs": [
    {
     "data": {
      "text/plain": [
       "array([[ 83663. , 445821. ],\n",
       "       [ 82535. , 445821. ],\n",
       "       [ 82535. , 446046.2],\n",
       "       [ 83663. , 446046.2],\n",
       "       [ 83663. , 446271.4],\n",
       "       [ 82535. , 446271.4],\n",
       "       [ 82535. , 446496.6],\n",
       "       [ 83663. , 446496.6],\n",
       "       [ 83663. , 446721.8],\n",
       "       [ 82535. , 446721.8],\n",
       "       [ 82535. , 446947. ],\n",
       "       [ 83663. , 446947. ]])"
      ]
     },
     "execution_count": 7,
     "metadata": {},
     "output_type": "execute_result"
    }
   ],
   "execution_count": 7
  },
  {
   "metadata": {
    "ExecuteTime": {
     "end_time": "2024-05-22T02:00:31.272137Z",
     "start_time": "2024-05-22T02:00:31.255826Z"
    }
   },
   "cell_type": "code",
   "source": [
    "short_leg_active = \"true\" if flight_path.always_active else \"false\"\n",
    "\n",
    "for i, leg in enumerate(flight_path.waypoints):\n",
    "    root.append(eT.Comment(f\"leg {i:03}\"))\n",
    "    \n",
    "    leg_element = eT.Element(\"leg\")\n",
    "    root.append(leg_element)\n",
    "    \n",
    "    platform_settings_element = eT.Element(\n",
    "        \"platformSettings\",\n",
    "        attrib={\n",
    "            \"x\": str(leg[0]),\n",
    "            \"y\": str(leg[1]),\n",
    "            \"z\": str(flight_path.altitude),\n",
    "            \"movePerSec_m\": str(flight_path.velocity)\n",
    "        }\n",
    "    )\n",
    "    leg_element.append(platform_settings_element)\n",
    "\n",
    "    scanner_settings_element = eT.Element(\n",
    "        \"scannerSettings\",\n",
    "        attrib={\n",
    "            \"template\": str(flight_path.scanner_settings_id),\n",
    "            \"trajectoryTimeInterval_s\": str(flight_path.trajectory_time_interval)\n",
    "        }\n",
    "    )\n",
    "    if i % 2 != 0:\n",
    "        scanner_settings_element.attrib[\"active\"] = str(short_leg_active)\n",
    "    leg_element.append(scanner_settings_element)    "
   ],
   "id": "6795a848a63fb4b0",
   "outputs": [],
   "execution_count": 8
  },
  {
   "metadata": {
    "ExecuteTime": {
     "end_time": "2024-05-22T02:00:39.555378Z",
     "start_time": "2024-05-22T02:00:39.538803Z"
    }
   },
   "cell_type": "code",
   "source": "eT.indent(tree, \"    \")",
   "id": "d559d4e7a47b430b",
   "outputs": [],
   "execution_count": 9
  },
  {
   "metadata": {
    "ExecuteTime": {
     "end_time": "2024-05-22T02:18:09.851080Z",
     "start_time": "2024-05-22T02:18:09.830275Z"
    }
   },
   "cell_type": "code",
   "source": "print(eT.tostring(tree.getroot(), encoding=\"unicode\", xml_declaration=False))",
   "id": "20a9f31b40530aa1",
   "outputs": [
    {
     "name": "stdout",
     "output_type": "stream",
     "text": [
      "<survey>\n",
      "    <!--leg 000-->\n",
      "    <leg>\n",
      "        <platformSettings x=\"83663.0\" y=\"445821.0\" z=\"500\" movePerSec_m=\"60\" />\n",
      "        <scannerSettings template=\"scanner_settings\" trajectoryTimeInterval_s=\"0.05\" />\n",
      "    </leg>\n",
      "    <!--leg 001-->\n",
      "    <leg>\n",
      "        <platformSettings x=\"82535.0\" y=\"445821.0\" z=\"500\" movePerSec_m=\"60\" />\n",
      "        <scannerSettings template=\"scanner_settings\" trajectoryTimeInterval_s=\"0.05\" active=\"false\" />\n",
      "    </leg>\n",
      "    <!--leg 002-->\n",
      "    <leg>\n",
      "        <platformSettings x=\"82535.0\" y=\"446046.2\" z=\"500\" movePerSec_m=\"60\" />\n",
      "        <scannerSettings template=\"scanner_settings\" trajectoryTimeInterval_s=\"0.05\" />\n",
      "    </leg>\n",
      "    <!--leg 003-->\n",
      "    <leg>\n",
      "        <platformSettings x=\"83663.0\" y=\"446046.2\" z=\"500\" movePerSec_m=\"60\" />\n",
      "        <scannerSettings template=\"scanner_settings\" trajectoryTimeInterval_s=\"0.05\" active=\"false\" />\n",
      "    </leg>\n",
      "    <!--leg 004-->\n",
      "    <leg>\n",
      "        <platformSettings x=\"83663.0\" y=\"446271.4\" z=\"500\" movePerSec_m=\"60\" />\n",
      "        <scannerSettings template=\"scanner_settings\" trajectoryTimeInterval_s=\"0.05\" />\n",
      "    </leg>\n",
      "    <!--leg 005-->\n",
      "    <leg>\n",
      "        <platformSettings x=\"82535.0\" y=\"446271.4\" z=\"500\" movePerSec_m=\"60\" />\n",
      "        <scannerSettings template=\"scanner_settings\" trajectoryTimeInterval_s=\"0.05\" active=\"false\" />\n",
      "    </leg>\n",
      "    <!--leg 006-->\n",
      "    <leg>\n",
      "        <platformSettings x=\"82535.0\" y=\"446496.60000000003\" z=\"500\" movePerSec_m=\"60\" />\n",
      "        <scannerSettings template=\"scanner_settings\" trajectoryTimeInterval_s=\"0.05\" />\n",
      "    </leg>\n",
      "    <!--leg 007-->\n",
      "    <leg>\n",
      "        <platformSettings x=\"83663.0\" y=\"446496.60000000003\" z=\"500\" movePerSec_m=\"60\" />\n",
      "        <scannerSettings template=\"scanner_settings\" trajectoryTimeInterval_s=\"0.05\" active=\"false\" />\n",
      "    </leg>\n",
      "    <!--leg 008-->\n",
      "    <leg>\n",
      "        <platformSettings x=\"83663.0\" y=\"446721.80000000005\" z=\"500\" movePerSec_m=\"60\" />\n",
      "        <scannerSettings template=\"scanner_settings\" trajectoryTimeInterval_s=\"0.05\" />\n",
      "    </leg>\n",
      "    <!--leg 009-->\n",
      "    <leg>\n",
      "        <platformSettings x=\"82535.0\" y=\"446721.80000000005\" z=\"500\" movePerSec_m=\"60\" />\n",
      "        <scannerSettings template=\"scanner_settings\" trajectoryTimeInterval_s=\"0.05\" active=\"false\" />\n",
      "    </leg>\n",
      "    <!--leg 010-->\n",
      "    <leg>\n",
      "        <platformSettings x=\"82535.0\" y=\"446947.00000000006\" z=\"500\" movePerSec_m=\"60\" />\n",
      "        <scannerSettings template=\"scanner_settings\" trajectoryTimeInterval_s=\"0.05\" />\n",
      "    </leg>\n",
      "    <!--leg 011-->\n",
      "    <leg>\n",
      "        <platformSettings x=\"83663.0\" y=\"446947.00000000006\" z=\"500\" movePerSec_m=\"60\" />\n",
      "        <scannerSettings template=\"scanner_settings\" trajectoryTimeInterval_s=\"0.05\" active=\"false\" />\n",
      "    </leg>\n",
      "</survey>\n"
     ]
    }
   ],
   "execution_count": 20
  },
  {
   "metadata": {},
   "cell_type": "code",
   "outputs": [],
   "execution_count": 29,
   "source": "tree.write(r\"temp\\flight_path_etree.xml\", encoding=\"UTF-8\", xml_declaration=False)",
   "id": "492e814cc771b610"
  },
  {
   "metadata": {},
   "cell_type": "code",
   "outputs": [],
   "execution_count": null,
   "source": "",
   "id": "c4c8069eff8d2cfe"
  }
 ],
 "metadata": {
  "kernelspec": {
   "display_name": "Python 3",
   "language": "python",
   "name": "python3"
  },
  "language_info": {
   "codemirror_mode": {
    "name": "ipython",
    "version": 2
   },
   "file_extension": ".py",
   "mimetype": "text/x-python",
   "name": "python",
   "nbconvert_exporter": "python",
   "pygments_lexer": "ipython2",
   "version": "2.7.6"
  }
 },
 "nbformat": 4,
 "nbformat_minor": 5
}
